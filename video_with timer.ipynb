{
 "cells": [
  {
   "cell_type": "code",
   "execution_count": 1,
   "id": "c8f96699",
   "metadata": {},
   "outputs": [
    {
     "name": "stdout",
     "output_type": "stream",
     "text": [
      "C:\\Users\\User\\Desktop\\sem1_year4\\fyp_thing\n"
     ]
    }
   ],
   "source": [
    "cd C:\\Users\\User\\Desktop\\sem1_year4\\fyp_thing"
   ]
  },
  {
   "cell_type": "code",
   "execution_count": null,
   "id": "5e45a4ad",
   "metadata": {},
   "outputs": [],
   "source": [
    "# dlib 68 facial landmark keypoint (accurate)"
   ]
  },
  {
   "cell_type": "code",
   "execution_count": null,
   "id": "bb069f8f",
   "metadata": {},
   "outputs": [],
   "source": [
    "import tensorflow as tf\n",
    "import cv2\n",
    "import os\n",
    "import matplotlib.pyplot as plt\n",
    "import numpy as np\n",
    "from tensorflow import keras\n",
    "from tensorflow.keras import layers\n",
    "import dlib\n",
    "from imutils import face_utils\n",
    "import time\n",
    "\n",
    "cap = cv2.VideoCapture(0)\n",
    "count=0\n",
    "detector = dlib.get_frontal_face_detector()\n",
    "predictor= dlib.shape_predictor(\"shape_predictor_68_face_landmarks.dat\")\n",
    "model = tf.keras.models.load_model('new_dataset/model_mobileNet.h5')\n",
    "status=\"None\"\n",
    "elapsed=0\n",
    "\n",
    "while True:\n",
    "    ret, frame = cap.read()\n",
    "    gray = cv2.cvtColor(frame, cv2.COLOR_BGR2GRAY)\n",
    "    rects=detector(gray,0)\n",
    "    \n",
    "    for rect in rects:\n",
    "        ## extract mouth region using dlib 68 keypoint\n",
    "        shape = predictor(gray, rect)\n",
    "        x1=shape.part(48).x \n",
    "        x2=shape.part(54).x \n",
    "        y1=shape.part(51).y \n",
    "        y2=shape.part(57).y\n",
    "        cv2.rectangle(frame, (x1-20,y1-20), (x2+20,y2+20), (0,255,0))\n",
    "        mouth_roi=frame[y1-20:y2+20,x1-20:x2+20]\n",
    "        final_image = cv2.resize(mouth_roi, (224,224))\n",
    "        final_image = np.expand_dims(final_image,axis = 0)\n",
    "        final_image = final_image/255.0\n",
    "        \n",
    "        ## prediction using mouth roi\n",
    "        start=time.time()\n",
    "        pred_open = model.predict(final_image)\n",
    "        pred_close = 1-pred_open\n",
    "        predict = pred_open.round()\n",
    "        \n",
    "        if (predict==1):\n",
    "            status=\"Open\"\n",
    "            cv2.putText(frame,str(pred_open),(x1-30, y1-30),font, 0.3,(0,255,0),2,cv2.LINE_4)\n",
    "            end=time.time()\n",
    "            elapsed=end-start+elapsed\n",
    "\n",
    "            \n",
    "        else:\n",
    "            status=\"closed\"\n",
    "            cv2.putText(frame,str(pred_close),(x1-30, y1-30),font, 0.3,(0,0,255),2,cv2.LINE_4)\n",
    "            end=time.time()\n",
    "            elapsed=0\n",
    "      \n",
    "    \n",
    "    ## feeding decision\n",
    "    if (elapsed>2):\n",
    "        font = cv2.FONT_HERSHEY_SIMPLEX\n",
    "        cv2.putText(frame,'ready to feed!',(100, 10),font, 0.5,(255,0,0),2,cv2.LINE_4)\n",
    "    else:\n",
    "        font = cv2.FONT_HERSHEY_SIMPLEX\n",
    "        cv2.putText(frame,'Please open mouth',(100, 10),font, 0.5,(0,0,255),2,cv2.LINE_4)\n",
    "    \n",
    "    elp=\"{:.2f}\".format(elapsed)\n",
    "    font = cv2.FONT_HERSHEY_SIMPLEX\n",
    "    cv2.putText(frame,status,(100, 30),font, 0.5,(0,0,0),2,cv2.LINE_4)\n",
    "    cv2.putText(frame,'Count:'+str(elp),(10, 200),font, 0.5,(0,0,255),2,cv2.LINE_4) \n",
    "    cv2.imshow('Open/Closed Mouth Detection', frame)    \n",
    "    \n",
    "    if cv2.waitKey(2) & 0xFF == ord('q'):\n",
    "        break\n",
    "\n",
    "cap.release()\n",
    "cv2.destroyAllWindows()"
   ]
  }
 ],
 "metadata": {
  "kernelspec": {
   "display_name": "Python 3 (ipykernel)",
   "language": "python",
   "name": "python3"
  },
  "language_info": {
   "codemirror_mode": {
    "name": "ipython",
    "version": 3
   },
   "file_extension": ".py",
   "mimetype": "text/x-python",
   "name": "python",
   "nbconvert_exporter": "python",
   "pygments_lexer": "ipython3",
   "version": "3.7.11"
  }
 },
 "nbformat": 4,
 "nbformat_minor": 5
}
